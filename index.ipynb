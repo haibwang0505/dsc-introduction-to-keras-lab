{
 "cells": [
  {
   "cell_type": "markdown",
   "metadata": {},
   "source": [
    "# Keras - Lab\n",
    "\n",
    "## Introduction\n",
    "\n",
    "In this lab you'll once again build a neural network, but this time you will be using Keras to do a lot of the heavy lifting.\n",
    "\n",
    "\n",
    "## Objectives\n",
    "\n",
    "You will be able to:\n",
    "\n",
    "- Build a neural network using Keras \n",
    "- Evaluate performance of a neural network using Keras "
   ]
  },
  {
   "cell_type": "markdown",
   "metadata": {},
   "source": [
    "## Required Packages\n",
    "\n",
    "We'll start by importing all of the required packages and classes."
   ]
  },
  {
   "cell_type": "code",
   "execution_count": 1,
   "metadata": {},
   "outputs": [],
   "source": [
    "import matplotlib.pyplot as plt\n",
    "import pandas as pd\n",
    "import numpy as np\n",
    "import random\n",
    "from sklearn.model_selection import train_test_split\n",
    "from keras.utils.np_utils import to_categorical\n",
    "from sklearn import preprocessing\n",
    "from keras.preprocessing.text import Tokenizer\n",
    "from keras import models\n",
    "from keras import layers\n",
    "from keras import optimizers"
   ]
  },
  {
   "cell_type": "markdown",
   "metadata": {},
   "source": [
    "## Load the data\n",
    "\n",
    "In this lab you will be classifying bank complaints available in the `'Bank_complaints.csv'` file. "
   ]
  },
  {
   "cell_type": "code",
   "execution_count": 2,
   "metadata": {},
   "outputs": [
    {
     "name": "stdout",
     "output_type": "stream",
     "text": [
      "<class 'pandas.core.frame.DataFrame'>\n",
      "RangeIndex: 60000 entries, 0 to 59999\n",
      "Data columns (total 2 columns):\n",
      " #   Column                        Non-Null Count  Dtype \n",
      "---  ------                        --------------  ----- \n",
      " 0   Product                       60000 non-null  object\n",
      " 1   Consumer complaint narrative  60000 non-null  object\n",
      "dtypes: object(2)\n",
      "memory usage: 937.6+ KB\n",
      "None\n"
     ]
    },
    {
     "data": {
      "text/html": [
       "<div>\n",
       "<style scoped>\n",
       "    .dataframe tbody tr th:only-of-type {\n",
       "        vertical-align: middle;\n",
       "    }\n",
       "\n",
       "    .dataframe tbody tr th {\n",
       "        vertical-align: top;\n",
       "    }\n",
       "\n",
       "    .dataframe thead th {\n",
       "        text-align: right;\n",
       "    }\n",
       "</style>\n",
       "<table border=\"1\" class=\"dataframe\">\n",
       "  <thead>\n",
       "    <tr style=\"text-align: right;\">\n",
       "      <th></th>\n",
       "      <th>Product</th>\n",
       "      <th>Consumer complaint narrative</th>\n",
       "    </tr>\n",
       "  </thead>\n",
       "  <tbody>\n",
       "    <tr>\n",
       "      <th>0</th>\n",
       "      <td>Student loan</td>\n",
       "      <td>In XX/XX/XXXX I filled out the Fedlaon applica...</td>\n",
       "    </tr>\n",
       "    <tr>\n",
       "      <th>1</th>\n",
       "      <td>Student loan</td>\n",
       "      <td>I am being contacted by a debt collector for p...</td>\n",
       "    </tr>\n",
       "    <tr>\n",
       "      <th>2</th>\n",
       "      <td>Student loan</td>\n",
       "      <td>I cosigned XXXX student loans at SallieMae for...</td>\n",
       "    </tr>\n",
       "    <tr>\n",
       "      <th>3</th>\n",
       "      <td>Student loan</td>\n",
       "      <td>Navient has sytematically and illegally failed...</td>\n",
       "    </tr>\n",
       "    <tr>\n",
       "      <th>4</th>\n",
       "      <td>Student loan</td>\n",
       "      <td>My wife became eligible for XXXX Loan Forgiven...</td>\n",
       "    </tr>\n",
       "  </tbody>\n",
       "</table>\n",
       "</div>"
      ],
      "text/plain": [
       "        Product                       Consumer complaint narrative\n",
       "0  Student loan  In XX/XX/XXXX I filled out the Fedlaon applica...\n",
       "1  Student loan  I am being contacted by a debt collector for p...\n",
       "2  Student loan  I cosigned XXXX student loans at SallieMae for...\n",
       "3  Student loan  Navient has sytematically and illegally failed...\n",
       "4  Student loan  My wife became eligible for XXXX Loan Forgiven..."
      ]
     },
     "execution_count": 2,
     "metadata": {},
     "output_type": "execute_result"
    }
   ],
   "source": [
    "# Import data\n",
    "df = pd.read_csv('Bank_complaints.csv')\n",
    "\n",
    "# Inspect data\n",
    "print(df.info())\n",
    "df.head()"
   ]
  },
  {
   "cell_type": "markdown",
   "metadata": {},
   "source": [
    "As mentioned earlier, your task is to categorize banking complaints into various predefined categories. Preview what these categories are and what percent of the complaints each accounts for. "
   ]
  },
  {
   "cell_type": "code",
   "execution_count": 3,
   "metadata": {},
   "outputs": [
    {
     "data": {
      "text/plain": [
       "Student loan                   0.190067\n",
       "Credit card                    0.159000\n",
       "Consumer Loan                  0.157900\n",
       "Mortgage                       0.138867\n",
       "Bank account or service        0.138483\n",
       "Credit reporting               0.114400\n",
       "Checking or savings account    0.101283\n",
       "Name: Product, dtype: float64"
      ]
     },
     "execution_count": 3,
     "metadata": {},
     "output_type": "execute_result"
    }
   ],
   "source": [
    "df['Product'].value_counts(normalize=True)"
   ]
  },
  {
   "cell_type": "markdown",
   "metadata": {},
   "source": [
    "## Preprocessing\n",
    "\n",
    "Before we build our neural network, we need to do several preprocessing steps. First, we will create word vector counts (a bag of words type representation) of our complaints text. Next, we will change the category labels to integers. Finally, we will perform our usual train-test split before building and training our neural network using Keras. With that, let's start munging our data! \n",
    "\n",
    "## One-hot encoding of the complaints\n",
    "\n",
    "Our first step again is to transform our textual data into a numerical representation. As we saw in some of our previous lessons on NLP, there are many ways to do this. Here, we'll use the `Tokenizer()` class from the `preprocessing.text` sub-module of the Keras package.   \n",
    "\n",
    "As with our previous work using NLTK, this will transform our text complaints into word vectors. (Note that the method of creating a vector is different from our previous work with NLTK; as you'll see, word order will be preserved as opposed to a bag of words representation). In the below code, we'll only keep the 2,000 most common words and use one-hot encoding. \n",
    "\n"
   ]
  },
  {
   "cell_type": "code",
   "execution_count": 5,
   "metadata": {},
   "outputs": [],
   "source": [
    "# As a quick preliminary, briefly review the docstring for keras.preprocessing.text.Tokenizer\n",
    "Tokenizer?"
   ]
  },
  {
   "cell_type": "code",
   "execution_count": 6,
   "metadata": {},
   "outputs": [
    {
     "name": "stdout",
     "output_type": "stream",
     "text": [
      "sequences type: <class 'list'>\n",
      "one_hot_results type: <class 'numpy.ndarray'>\n",
      "Found 50334 unique tokens.\n",
      "Dimensions of our coded results: (60000, 2000)\n"
     ]
    }
   ],
   "source": [
    "# ⏰ This cell may take about thirty seconds to run\n",
    "\n",
    "# Raw text complaints\n",
    "complaints = df['Consumer complaint narrative'] \n",
    "\n",
    "# Initialize a tokenizer \n",
    "tokenizer = Tokenizer(num_words=2000) \n",
    "\n",
    "# Fit it to the complaints\n",
    "tokenizer.fit_on_texts(complaints) \n",
    "\n",
    "# Generate sequences\n",
    "sequences = tokenizer.texts_to_sequences(complaints) \n",
    "print('sequences type:', type(sequences))\n",
    "\n",
    "# Similar to sequences, but returns a numpy array\n",
    "one_hot_results= tokenizer.texts_to_matrix(complaints, mode='binary') \n",
    "print('one_hot_results type:', type(one_hot_results))\n",
    "\n",
    "# Useful if we wish to decode (more explanation below)\n",
    "word_index = tokenizer.word_index \n",
    "\n",
    "# Tokens are the number of unique words across the corpus\n",
    "print('Found %s unique tokens.' % len(word_index)) \n",
    "\n",
    "# Our coded data\n",
    "print('Dimensions of our coded results:', np.shape(one_hot_results)) "
   ]
  },
  {
   "cell_type": "markdown",
   "metadata": {},
   "source": [
    "## Decoding Word Vectors \n",
    "\n",
    "As a note, you can also decode these vectorized representations of the reviews. The `word_index` variable, defined above, stores the mapping from the label number to the actual word. Somewhat tediously, we can turn this dictionary inside out and map it back to our word vectors, giving us roughly the original complaint back. (As you'll see, the text won't be identical as we limited ourselves to top 2000 words.)\n",
    "\n",
    "## Python Review / Mini Challenge\n",
    "\n",
    "While a bit tangential to our main topic of interest, we need to reverse our current dictionary `word_index` which maps words from our corpus to integers. In decoding our `one_hot_results`, we will need to create a dictionary of these integers to the original words. Below, take the `word_index` dictionary object and change the orientation so that the values are keys and the keys values. In other words, you are transforming something of the form {A:1, B:2, C:3} to {1:A, 2:B, 3:C}. "
   ]
  },
  {
   "cell_type": "code",
   "execution_count": 7,
   "metadata": {},
   "outputs": [],
   "source": [
    "reverse_index = dict([(value, key) for (key, value) in word_index.items()])"
   ]
  },
  {
   "cell_type": "markdown",
   "metadata": {},
   "source": [
    "## Back to Decoding Our Word Vectors..."
   ]
  },
  {
   "cell_type": "code",
   "execution_count": 8,
   "metadata": {},
   "outputs": [
    {
     "name": "stdout",
     "output_type": "stream",
     "text": [
      "Original complaint text:\n",
      "I have already filed several complaints about AES/PHEAA. I was notified by a XXXX XXXX let @ XXXX, who pretended to be from your office, he said he was from CFPB. I found out this morning he is n't from your office, but is actually works at XXXX. \r\n",
      "\r\n",
      "This has wasted weeks of my time. They AES/PHEAA confirmed and admitted ( see attached transcript of XXXX, conversation at XXXX ( XXXX ) with XXXX that proves they verified the loans are not mine ) the student loans they had XXXX, and collected on, and reported negate credit reporting in my name are in fact, not mine. \r\n",
      "They conclued their investigation on XXXX admitting they made a mistake and have my name on soneone elses loans. I these XXXX loans total {$10000.00}, original amount. My XXXX loans I got was total {$3500.00}. We proved by providing AES/PHEAA, this with my original promissary notes I located recently, the XXXX of my college provided AES/PHEAA with their original shoeinf amounts of my XXXX loans which show different dates and amounts, the dates and amounts are not even close to matching these loans they have in my name, The original lender, XXXX XXXX Bank notifying AES/PHEAA, they never issued me a student loan, and original Loan Guarantor, XXXX, notifying AES/PHEAA, they never were guarantor of my loans. \r\n",
      "\r\n",
      "XXXX straight forward. But today, this person, XXXX XXXX, told me they know these loans are not mine, and they refuse to remove my name off these XXXX loan 's and correct their mistake, essentially forcing me to pay these loans off, bucause in XXXX they sold the loans to XXXX loans. \r\n",
      "\r\n",
      "This is absurd, first protruding to be this office, and then refusing to correct their mistake. \r\n",
      "\r\n",
      "Please for the love of XXXX will soneone from your office call me at XXXX, today. I am a XXXX vet and they are knowingly discriminating against me. \r\n",
      "Pretending to be you.\n",
      "\n",
      "\n",
      "\n",
      "Decoded review from Tokenizer:\n",
      "i have already filed several complaints about aes i was notified by a xxxx xxxx let xxxx who to be from your office he said he was from cfpb i found out this morning he is n't from your office but is actually works at xxxx \r",
      " \r",
      " this has weeks of my time they aes confirmed and admitted see attached of xxxx conversation at xxxx xxxx with xxxx that they verified the loans are not mine the student loans they had xxxx and on and reported credit reporting in my name are in fact not mine \r",
      " they their investigation on xxxx they made a mistake and have my name on loans i these xxxx loans total 10000 00 original amount my xxxx loans i got was total 00 we by providing aes this with my original notes i located recently the xxxx of my college provided aes with their original amounts of my xxxx loans which show different dates and amounts the dates and amounts are not even close to these loans they have in my name the original lender xxxx xxxx bank notifying aes they never issued me a student loan and original loan xxxx notifying aes they never were of my loans \r",
      " \r",
      " xxxx forward but today this person xxxx xxxx told me they know these loans are not mine and they refuse to remove my name off these xxxx loan 's and correct their mistake essentially me to pay these loans off in xxxx they sold the loans to xxxx loans \r",
      " \r",
      " this is first to be this office and then refusing to correct their mistake \r",
      " \r",
      " please for the of xxxx will from your office call me at xxxx today i am a xxxx and they are against me \r",
      " to be you\n"
     ]
    }
   ],
   "source": [
    "comment_idx_to_preview = 19\n",
    "print('Original complaint text:')\n",
    "print(complaints[comment_idx_to_preview])\n",
    "print('\\n\\n')\n",
    "\n",
    "# The reverse_index cell block above must be complete in order for this cell block to successively execute \n",
    "decoded_review = ' '.join([reverse_index.get(i) for i in sequences[comment_idx_to_preview]])\n",
    "print('Decoded review from Tokenizer:')\n",
    "print(decoded_review)"
   ]
  },
  {
   "cell_type": "markdown",
   "metadata": {},
   "source": [
    "## Convert the Products to Numerical Categories\n",
    "\n",
    "On to step two of our preprocessing: converting our descriptive categories into integers."
   ]
  },
  {
   "cell_type": "code",
   "execution_count": 9,
   "metadata": {},
   "outputs": [
    {
     "name": "stdout",
     "output_type": "stream",
     "text": [
      "Original class labels:\n",
      "['Bank account or service', 'Checking or savings account', 'Consumer Loan', 'Credit card', 'Credit reporting', 'Mortgage', 'Student loan']\n",
      "\n",
      "\n",
      "New product labels:\n",
      "[6 6 6 ... 4 4 4]\n",
      "\n",
      "\n",
      "One hot labels; 7 binary columns, one for each of the categories.\n",
      "[[0. 0. 0. ... 0. 0. 1.]\n",
      " [0. 0. 0. ... 0. 0. 1.]\n",
      " [0. 0. 0. ... 0. 0. 1.]\n",
      " ...\n",
      " [0. 0. 0. ... 1. 0. 0.]\n",
      " [0. 0. 0. ... 1. 0. 0.]\n",
      " [0. 0. 0. ... 1. 0. 0.]]\n",
      "\n",
      "\n",
      "One hot labels shape:\n",
      "(60000, 7)\n"
     ]
    }
   ],
   "source": [
    "product = df['Product']\n",
    "\n",
    "# Initialize\n",
    "le = preprocessing.LabelEncoder() \n",
    "le.fit(product)\n",
    "print('Original class labels:')\n",
    "print(list(le.classes_))\n",
    "print('\\n')\n",
    "product_cat = le.transform(product)  \n",
    "\n",
    "# If you wish to retrieve the original descriptive labels post production\n",
    "# list(le.inverse_transform([0, 1, 3, 3, 0, 6, 4])) \n",
    "\n",
    "print('New product labels:')\n",
    "print(product_cat)\n",
    "print('\\n')\n",
    "\n",
    "# Each row will be all zeros except for the category for that observation \n",
    "print('One hot labels; 7 binary columns, one for each of the categories.') \n",
    "product_onehot = to_categorical(product_cat)\n",
    "print(product_onehot)\n",
    "print('\\n')\n",
    "\n",
    "print('One hot labels shape:')\n",
    "print(np.shape(product_onehot))"
   ]
  },
  {
   "cell_type": "markdown",
   "metadata": {},
   "source": [
    "## Train-test split\n",
    "\n",
    "Now for our final preprocessing step: the usual train-test split. "
   ]
  },
  {
   "cell_type": "code",
   "execution_count": 10,
   "metadata": {},
   "outputs": [
    {
     "name": "stdout",
     "output_type": "stream",
     "text": [
      "Test label shape: (1500, 7)\n",
      "Train label shape: (58500, 7)\n",
      "Test shape: (1500, 2000)\n",
      "Train shape: (58500, 2000)\n"
     ]
    }
   ],
   "source": [
    "random.seed(123)\n",
    "test_index = random.sample(range(1,10000), 1500)\n",
    "\n",
    "test = one_hot_results[test_index]\n",
    "train = np.delete(one_hot_results, test_index, 0)\n",
    "\n",
    "label_test = product_onehot[test_index]\n",
    "label_train = np.delete(product_onehot, test_index, 0)\n",
    "\n",
    "print('Test label shape:', np.shape(label_test))\n",
    "print('Train label shape:', np.shape(label_train))\n",
    "print('Test shape:', np.shape(test))\n",
    "print('Train shape:', np.shape(train))"
   ]
  },
  {
   "cell_type": "markdown",
   "metadata": {},
   "source": [
    "## Building the network\n",
    "\n",
    "Let's build a fully connected (Dense) layer network with relu activation in Keras. You can do this using: `Dense(16, activation='relu')`. \n",
    "\n",
    "In this example, use two hidden layers with 50 units in the first layer and 25 in the second, both with a `'relu'` activation function. Because we are dealing with a multiclass problem (classifying the complaints into 7 categories), we use a use a `'softmax'` classifier in order to output 7 class probabilities per case.  "
   ]
  },
  {
   "cell_type": "code",
   "execution_count": 11,
   "metadata": {},
   "outputs": [],
   "source": [
    "# Initialize a sequential model\n",
    "model = models.Sequential()\n",
    "\n",
    "# Two layers with relu activation\n",
    "model.add(layers.Dense(50, activation='relu', input_shape=(2000,)))\n",
    "model.add(layers.Dense(25, activation='relu'))\n",
    "\n",
    "# One layer with softmax activation \n",
    "model.add(layers.Dense(7, activation='softmax'))\n"
   ]
  },
  {
   "cell_type": "markdown",
   "metadata": {},
   "source": [
    "## Compiling the model\n",
    "\n",
    "Now, compile the model! This time, use `'categorical_crossentropy'` as the loss function and stochastic gradient descent, `'SGD'` as the optimizer. As in the previous lesson, include the accuracy as a metric."
   ]
  },
  {
   "cell_type": "code",
   "execution_count": 12,
   "metadata": {},
   "outputs": [],
   "source": [
    "# Compile the model\n",
    "model.compile(optimizer='SGD',\n",
    "              loss='categorical_crossentropy',\n",
    "              metrics=['acc'])\n"
   ]
  },
  {
   "cell_type": "markdown",
   "metadata": {},
   "source": [
    "## Training the model\n",
    "\n",
    "In the compiler, you'll be passing the optimizer (SGD = stochastic gradient descent), loss function, and metrics. Train the model for 120 epochs in mini-batches of 256 samples.\n",
    "\n",
    "_Note:_ ⏰ _Your code may take about one to two minutes to run._"
   ]
  },
  {
   "cell_type": "code",
   "execution_count": 13,
   "metadata": {},
   "outputs": [
    {
     "name": "stdout",
     "output_type": "stream",
     "text": [
      "Epoch 1/120\n",
      "229/229 [==============================] - 1s 6ms/step - loss: 1.8899 - acc: 0.2221\n",
      "Epoch 2/120\n",
      "229/229 [==============================] - 1s 6ms/step - loss: 1.6220 - acc: 0.4270\n",
      "Epoch 3/120\n",
      "229/229 [==============================] - 1s 6ms/step - loss: 1.2466 - acc: 0.6006\n",
      "Epoch 4/120\n",
      "229/229 [==============================] - 2s 7ms/step - loss: 0.9811 - acc: 0.6808\n",
      "Epoch 5/120\n",
      "229/229 [==============================] - 2s 7ms/step - loss: 0.8345 - acc: 0.7162\n",
      "Epoch 6/120\n",
      "229/229 [==============================] - 1s 5ms/step - loss: 0.7517 - acc: 0.7364\n",
      "Epoch 7/120\n",
      "229/229 [==============================] - 1s 5ms/step - loss: 0.7004 - acc: 0.7493\n",
      "Epoch 8/120\n",
      "229/229 [==============================] - 1s 5ms/step - loss: 0.6650 - acc: 0.7599\n",
      "Epoch 9/120\n",
      "229/229 [==============================] - 1s 5ms/step - loss: 0.6390 - acc: 0.7684\n",
      "Epoch 10/120\n",
      "229/229 [==============================] - 1s 4ms/step - loss: 0.6185 - acc: 0.7746\n",
      "Epoch 11/120\n",
      "229/229 [==============================] - 1s 4ms/step - loss: 0.6014 - acc: 0.7806\n",
      "Epoch 12/120\n",
      "229/229 [==============================] - 1s 5ms/step - loss: 0.5871 - acc: 0.7863\n",
      "Epoch 13/120\n",
      "229/229 [==============================] - 1s 5ms/step - loss: 0.5746 - acc: 0.7908\n",
      "Epoch 14/120\n",
      "229/229 [==============================] - 1s 5ms/step - loss: 0.5636 - acc: 0.7950\n",
      "Epoch 15/120\n",
      "229/229 [==============================] - 1s 5ms/step - loss: 0.5535 - acc: 0.7991\n",
      "Epoch 16/120\n",
      "229/229 [==============================] - 1s 4ms/step - loss: 0.5444 - acc: 0.8028\n",
      "Epoch 17/120\n",
      "229/229 [==============================] - 1s 5ms/step - loss: 0.5361 - acc: 0.8056\n",
      "Epoch 18/120\n",
      "229/229 [==============================] - 1s 5ms/step - loss: 0.5283 - acc: 0.8087\n",
      "Epoch 19/120\n",
      "229/229 [==============================] - 1s 5ms/step - loss: 0.5215 - acc: 0.8121\n",
      "Epoch 20/120\n",
      "229/229 [==============================] - 1s 5ms/step - loss: 0.5147 - acc: 0.8143\n",
      "Epoch 21/120\n",
      "229/229 [==============================] - 1s 4ms/step - loss: 0.5083 - acc: 0.8170\n",
      "Epoch 22/120\n",
      "229/229 [==============================] - 1s 5ms/step - loss: 0.5026 - acc: 0.8189\n",
      "Epoch 23/120\n",
      "229/229 [==============================] - 1s 4ms/step - loss: 0.4972 - acc: 0.8213\n",
      "Epoch 24/120\n",
      "229/229 [==============================] - 1s 5ms/step - loss: 0.4922 - acc: 0.8237\n",
      "Epoch 25/120\n",
      "229/229 [==============================] - 1s 5ms/step - loss: 0.4874 - acc: 0.8256\n",
      "Epoch 26/120\n",
      "229/229 [==============================] - 1s 5ms/step - loss: 0.4828 - acc: 0.8270\n",
      "Epoch 27/120\n",
      "229/229 [==============================] - 1s 5ms/step - loss: 0.4787 - acc: 0.8290\n",
      "Epoch 28/120\n",
      "229/229 [==============================] - 1s 5ms/step - loss: 0.4743 - acc: 0.8299\n",
      "Epoch 29/120\n",
      "229/229 [==============================] - 1s 5ms/step - loss: 0.4704 - acc: 0.8324\n",
      "Epoch 30/120\n",
      "229/229 [==============================] - 1s 5ms/step - loss: 0.4665 - acc: 0.8345\n",
      "Epoch 31/120\n",
      "229/229 [==============================] - 1s 5ms/step - loss: 0.4629 - acc: 0.8354\n",
      "Epoch 32/120\n",
      "229/229 [==============================] - 1s 5ms/step - loss: 0.4595 - acc: 0.8368\n",
      "Epoch 33/120\n",
      "229/229 [==============================] - 1s 4ms/step - loss: 0.4561 - acc: 0.8381\n",
      "Epoch 34/120\n",
      "229/229 [==============================] - 1s 5ms/step - loss: 0.4530 - acc: 0.8397\n",
      "Epoch 35/120\n",
      "229/229 [==============================] - 1s 4ms/step - loss: 0.4501 - acc: 0.8406\n",
      "Epoch 36/120\n",
      "229/229 [==============================] - 1s 5ms/step - loss: 0.4469 - acc: 0.8418\n",
      "Epoch 37/120\n",
      "229/229 [==============================] - 1s 5ms/step - loss: 0.4438 - acc: 0.8432\n",
      "Epoch 38/120\n",
      "229/229 [==============================] - 1s 5ms/step - loss: 0.4414 - acc: 0.8441\n",
      "Epoch 39/120\n",
      "229/229 [==============================] - 1s 5ms/step - loss: 0.4389 - acc: 0.8448\n",
      "Epoch 40/120\n",
      "229/229 [==============================] - 1s 5ms/step - loss: 0.4362 - acc: 0.8458\n",
      "Epoch 41/120\n",
      "229/229 [==============================] - 1s 5ms/step - loss: 0.4338 - acc: 0.8466\n",
      "Epoch 42/120\n",
      "229/229 [==============================] - 1s 5ms/step - loss: 0.4313 - acc: 0.8476\n",
      "Epoch 43/120\n",
      "229/229 [==============================] - 1s 5ms/step - loss: 0.4289 - acc: 0.8487\n",
      "Epoch 44/120\n",
      "229/229 [==============================] - 1s 5ms/step - loss: 0.4266 - acc: 0.8496\n",
      "Epoch 45/120\n",
      "229/229 [==============================] - 1s 5ms/step - loss: 0.4245 - acc: 0.8494\n",
      "Epoch 46/120\n",
      "229/229 [==============================] - 1s 5ms/step - loss: 0.4224 - acc: 0.8505\n",
      "Epoch 47/120\n",
      "229/229 [==============================] - 1s 4ms/step - loss: 0.4201 - acc: 0.8515\n",
      "Epoch 48/120\n",
      "229/229 [==============================] - 1s 4ms/step - loss: 0.4181 - acc: 0.8527\n",
      "Epoch 49/120\n",
      "229/229 [==============================] - 1s 4ms/step - loss: 0.4164 - acc: 0.8533\n",
      "Epoch 50/120\n",
      "229/229 [==============================] - 1s 4ms/step - loss: 0.4142 - acc: 0.8539\n",
      "Epoch 51/120\n",
      "229/229 [==============================] - 1s 5ms/step - loss: 0.4125 - acc: 0.8546\n",
      "Epoch 52/120\n",
      "229/229 [==============================] - 1s 5ms/step - loss: 0.4108 - acc: 0.8548\n",
      "Epoch 53/120\n",
      "229/229 [==============================] - 1s 5ms/step - loss: 0.4089 - acc: 0.8556\n",
      "Epoch 54/120\n",
      "229/229 [==============================] - 1s 5ms/step - loss: 0.4070 - acc: 0.8566A: 1s - loss:\n",
      "Epoch 55/120\n",
      "229/229 [==============================] - 1s 5ms/step - loss: 0.4053 - acc: 0.8571\n",
      "Epoch 56/120\n",
      "229/229 [==============================] - 1s 5ms/step - loss: 0.4039 - acc: 0.8572\n",
      "Epoch 57/120\n",
      "229/229 [==============================] - 1s 5ms/step - loss: 0.4021 - acc: 0.8582\n",
      "Epoch 58/120\n",
      "229/229 [==============================] - 1s 5ms/step - loss: 0.4004 - acc: 0.8585\n",
      "Epoch 59/120\n",
      "229/229 [==============================] - 1s 5ms/step - loss: 0.3991 - acc: 0.8597\n",
      "Epoch 60/120\n",
      "229/229 [==============================] - 1s 5ms/step - loss: 0.3975 - acc: 0.8592\n",
      "Epoch 61/120\n",
      "229/229 [==============================] - 1s 5ms/step - loss: 0.3958 - acc: 0.8599\n",
      "Epoch 62/120\n",
      "229/229 [==============================] - 1s 5ms/step - loss: 0.3942 - acc: 0.8610\n",
      "Epoch 63/120\n",
      "229/229 [==============================] - 1s 5ms/step - loss: 0.3931 - acc: 0.8605\n",
      "Epoch 64/120\n",
      "229/229 [==============================] - 2s 7ms/step - loss: 0.3914 - acc: 0.8614\n",
      "Epoch 65/120\n",
      "229/229 [==============================] - 1s 5ms/step - loss: 0.3904 - acc: 0.8617\n",
      "Epoch 66/120\n",
      "229/229 [==============================] - 2s 7ms/step - loss: 0.3890 - acc: 0.8623A: 1s - \n",
      "Epoch 67/120\n",
      "229/229 [==============================] - 3s 12ms/step - loss: 0.3873 - acc: 0.8624: 0s - loss: 0.3816 - acc: 0.8 - ETA: 0s - loss: 0.38 - ETA: 0s - loss: 0.3879 - acc: - ETA: 0s - loss: 0.3868 - acc: 0.86\n",
      "Epoch 68/120\n",
      "229/229 [==============================] - 2s 7ms/step - loss: 0.3860 - acc: 0.8634\n",
      "Epoch 69/120\n",
      "229/229 [==============================] - 2s 9ms/step - loss: 0.3849 - acc: 0.8630A: 0s - loss: 0.3852 - acc: 0.862 - ETA: 0s - loss: 0.3847 - acc: \n",
      "Epoch 70/120\n",
      "229/229 [==============================] - 1s 6ms/step - loss: 0.3837 - acc: 0.8644\n",
      "Epoch 71/120\n",
      "229/229 [==============================] - 1s 6ms/step - loss: 0.3825 - acc: 0.8643A: 1s - loss\n",
      "Epoch 72/120\n",
      "229/229 [==============================] - 1s 6ms/step - loss: 0.3813 - acc: 0.8646\n",
      "Epoch 73/120\n",
      "229/229 [==============================] - 1s 5ms/step - loss: 0.3800 - acc: 0.8649\n",
      "Epoch 74/120\n",
      "229/229 [==============================] - 1s 4ms/step - loss: 0.3787 - acc: 0.8651\n",
      "Epoch 75/120\n",
      "229/229 [==============================] - 1s 6ms/step - loss: 0.3776 - acc: 0.8658\n",
      "Epoch 76/120\n",
      "229/229 [==============================] - 2s 7ms/step - loss: 0.3764 - acc: 0.8667\n",
      "Epoch 77/120\n",
      "229/229 [==============================] - 1s 5ms/step - loss: 0.3751 - acc: 0.8666A: 0s - loss: 0.3748 - acc: 0.86\n",
      "Epoch 78/120\n",
      "229/229 [==============================] - 2s 7ms/step - loss: 0.3739 - acc: 0.8674\n",
      "Epoch 79/120\n",
      "229/229 [==============================] - 2s 9ms/step - loss: 0.3729 - acc: 0.8670\n",
      "Epoch 80/120\n",
      "229/229 [==============================] - 1s 6ms/step - loss: 0.3715 - acc: 0.8673\n",
      "Epoch 81/120\n",
      "229/229 [==============================] - 1s 5ms/step - loss: 0.3706 - acc: 0.8688\n",
      "Epoch 82/120\n"
     ]
    },
    {
     "name": "stdout",
     "output_type": "stream",
     "text": [
      "229/229 [==============================] - 2s 7ms/step - loss: 0.3695 - acc: 0.8686\n",
      "Epoch 83/120\n",
      "229/229 [==============================] - 2s 7ms/step - loss: 0.3685 - acc: 0.8686\n",
      "Epoch 84/120\n",
      "229/229 [==============================] - 1s 4ms/step - loss: 0.3674 - acc: 0.8690A: 1s - loss: 0.\n",
      "Epoch 85/120\n",
      "229/229 [==============================] - 1s 4ms/step - loss: 0.3664 - acc: 0.8692\n",
      "Epoch 86/120\n",
      "229/229 [==============================] - 1s 4ms/step - loss: 0.3657 - acc: 0.8695\n",
      "Epoch 87/120\n",
      "229/229 [==============================] - 1s 5ms/step - loss: 0.3641 - acc: 0.8707\n",
      "Epoch 88/120\n",
      "229/229 [==============================] - 1s 5ms/step - loss: 0.3635 - acc: 0.8707\n",
      "Epoch 89/120\n",
      "229/229 [==============================] - 1s 5ms/step - loss: 0.3623 - acc: 0.8712\n",
      "Epoch 90/120\n",
      "229/229 [==============================] - 1s 6ms/step - loss: 0.3610 - acc: 0.8713\n",
      "Epoch 91/120\n",
      "229/229 [==============================] - 1s 5ms/step - loss: 0.3600 - acc: 0.8718\n",
      "Epoch 92/120\n",
      "229/229 [==============================] - 1s 5ms/step - loss: 0.3590 - acc: 0.8715\n",
      "Epoch 93/120\n",
      "229/229 [==============================] - 1s 6ms/step - loss: 0.3584 - acc: 0.8716\n",
      "Epoch 94/120\n",
      "229/229 [==============================] - 1s 6ms/step - loss: 0.3573 - acc: 0.8722\n",
      "Epoch 95/120\n",
      "229/229 [==============================] - 1s 5ms/step - loss: 0.3562 - acc: 0.8730\n",
      "Epoch 96/120\n",
      "229/229 [==============================] - 1s 5ms/step - loss: 0.3552 - acc: 0.8735\n",
      "Epoch 97/120\n",
      "229/229 [==============================] - 1s 6ms/step - loss: 0.3544 - acc: 0.8733A: 0s - loss: 0.3502 \n",
      "Epoch 98/120\n",
      "229/229 [==============================] - 2s 8ms/step - loss: 0.3536 - acc: 0.8742\n",
      "Epoch 99/120\n",
      "229/229 [==============================] - 2s 9ms/step - loss: 0.3525 - acc: 0.8742\n",
      "Epoch 100/120\n",
      "229/229 [==============================] - 1s 6ms/step - loss: 0.3515 - acc: 0.8752\n",
      "Epoch 101/120\n",
      "229/229 [==============================] - 2s 9ms/step - loss: 0.3505 - acc: 0.8752\n",
      "Epoch 102/120\n",
      "229/229 [==============================] - 2s 7ms/step - loss: 0.3495 - acc: 0.8751\n",
      "Epoch 103/120\n",
      "229/229 [==============================] - 2s 8ms/step - loss: 0.3486 - acc: 0.8761\n",
      "Epoch 104/120\n",
      "229/229 [==============================] - 2s 7ms/step - loss: 0.3480 - acc: 0.8756\n",
      "Epoch 105/120\n",
      "229/229 [==============================] - 2s 7ms/step - loss: 0.3471 - acc: 0.8766\n",
      "Epoch 106/120\n",
      "229/229 [==============================] - 1s 6ms/step - loss: 0.3461 - acc: 0.8775\n",
      "Epoch 107/120\n",
      "229/229 [==============================] - 1s 6ms/step - loss: 0.3451 - acc: 0.8772\n",
      "Epoch 108/120\n",
      "229/229 [==============================] - 1s 6ms/step - loss: 0.3444 - acc: 0.8774\n",
      "Epoch 109/120\n",
      "229/229 [==============================] - 1s 6ms/step - loss: 0.3431 - acc: 0.8779\n",
      "Epoch 110/120\n",
      "229/229 [==============================] - 1s 6ms/step - loss: 0.3425 - acc: 0.8783\n",
      "Epoch 111/120\n",
      "229/229 [==============================] - 1s 6ms/step - loss: 0.3410 - acc: 0.8788\n",
      "Epoch 112/120\n",
      "229/229 [==============================] - 2s 7ms/step - loss: 0.3402 - acc: 0.8797\n",
      "Epoch 113/120\n",
      "229/229 [==============================] - 1s 6ms/step - loss: 0.3397 - acc: 0.8789\n",
      "Epoch 114/120\n",
      "229/229 [==============================] - 1s 6ms/step - loss: 0.3387 - acc: 0.8789\n",
      "Epoch 115/120\n",
      "229/229 [==============================] - 1s 6ms/step - loss: 0.3377 - acc: 0.8796\n",
      "Epoch 116/120\n",
      "229/229 [==============================] - 1s 6ms/step - loss: 0.3370 - acc: 0.8795\n",
      "Epoch 117/120\n",
      "229/229 [==============================] - 1s 6ms/step - loss: 0.3360 - acc: 0.8803\n",
      "Epoch 118/120\n",
      "229/229 [==============================] - 1s 6ms/step - loss: 0.3349 - acc: 0.8805\n",
      "Epoch 119/120\n",
      "229/229 [==============================] - 1s 6ms/step - loss: 0.3344 - acc: 0.8809\n",
      "Epoch 120/120\n",
      "229/229 [==============================] - 1s 6ms/step - loss: 0.3334 - acc: 0.8815\n"
     ]
    }
   ],
   "source": [
    "# Train the model \n",
    "history = model.fit(train,\n",
    "                    label_train,\n",
    "                    epochs=120,\n",
    "                    batch_size=256)"
   ]
  },
  {
   "cell_type": "markdown",
   "metadata": {},
   "source": [
    "Recall that the dictionary `history` has two entries: the loss and the accuracy achieved using the training set."
   ]
  },
  {
   "cell_type": "code",
   "execution_count": 14,
   "metadata": {},
   "outputs": [
    {
     "data": {
      "text/plain": [
       "dict_keys(['loss', 'acc'])"
      ]
     },
     "execution_count": 14,
     "metadata": {},
     "output_type": "execute_result"
    }
   ],
   "source": [
    "history_dict = history.history\n",
    "history_dict.keys()"
   ]
  },
  {
   "cell_type": "markdown",
   "metadata": {},
   "source": [
    "## Plot the results\n",
    "\n",
    "As you might expect, we'll use our `matplotlib` for graphing. Use the data stored in the `history_dict` above to plot the loss vs epochs and the accuracy vs epochs. "
   ]
  },
  {
   "cell_type": "code",
   "execution_count": 15,
   "metadata": {},
   "outputs": [
    {
     "data": {
      "image/png": "[encoded data removed]",
      "text/plain": [
       "<Figure size 432x288 with 1 Axes>"
      ]
     },
     "metadata": {
      "needs_background": "light"
     },
     "output_type": "display_data"
    }
   ],
   "source": [
    "history_dict = history.history\n",
    "loss_values = history_dict['loss']\n",
    "\n",
    "epochs = range(1, len(loss_values) + 1)\n",
    "plt.plot(epochs, loss_values, 'g', label='Training loss')\n",
    "\n",
    "plt.title('Training loss')\n",
    "plt.xlabel('Epochs')\n",
    "plt.ylabel('Loss')\n",
    "plt.legend()\n",
    "plt.show()"
   ]
  },
  {
   "cell_type": "code",
   "execution_count": 16,
   "metadata": {},
   "outputs": [
    {
     "data": {
      "image/png": "[encoded data removed]",
      "text/plain": [
       "<Figure size 432x288 with 1 Axes>"
      ]
     },
     "metadata": {
      "needs_background": "light"
     },
     "output_type": "display_data"
    }
   ],
   "source": [
    "\n",
    "\n",
    "acc_values = history_dict['acc'] \n",
    "\n",
    "plt.plot(epochs, acc_values, 'r', label='Training acc')\n",
    "plt.title('Training accuracy')\n",
    "plt.xlabel('Epochs')\n",
    "plt.ylabel('Accuracy')\n",
    "plt.legend()\n",
    "plt.show()"
   ]
  },
  {
   "cell_type": "markdown",
   "metadata": {},
   "source": [
    "It seems like we could just keep on going and accuracy would go up!"
   ]
  },
  {
   "cell_type": "markdown",
   "metadata": {},
   "source": [
    "## Make predictions\n",
    "\n",
    "Finally, it's time to make predictions. Use the relevant method discussed in the previous lesson to output (probability) predictions for the test set."
   ]
  },
  {
   "cell_type": "code",
   "execution_count": 17,
   "metadata": {},
   "outputs": [],
   "source": [
    "\n",
    "# Output (probability) predictions for the test set \n",
    "y_hat_test = model.predict(test) "
   ]
  },
  {
   "cell_type": "markdown",
   "metadata": {},
   "source": [
    "## Evaluate Performance\n",
    "\n",
    "Finally, print the loss and accuracy for both the train and test sets of the final trained model."
   ]
  },
  {
   "cell_type": "code",
   "execution_count": 18,
   "metadata": {},
   "outputs": [
    {
     "name": "stdout",
     "output_type": "stream",
     "text": [
      "1829/1829 [==============================] - 2s 1ms/step - loss: 0.3264 - acc: 0.8857\n"
     ]
    },
    {
     "data": {
      "text/plain": [
       "[0.32641762495040894, 0.8856751918792725]"
      ]
     },
     "execution_count": 18,
     "metadata": {},
     "output_type": "execute_result"
    }
   ],
   "source": [
    " \n",
    "# Print the loss and accuracy for the training set \n",
    "results_train = model.evaluate(train, label_train)\n",
    "results_train"
   ]
  },
  {
   "cell_type": "code",
   "execution_count": 19,
   "metadata": {},
   "outputs": [
    {
     "name": "stdout",
     "output_type": "stream",
     "text": [
      "47/47 [==============================] - 0s 1ms/step - loss: 0.2346 - acc: 0.9287\n"
     ]
    },
    {
     "data": {
      "text/plain": [
       "[0.23455959558486938, 0.9286666512489319]"
      ]
     },
     "execution_count": 19,
     "metadata": {},
     "output_type": "execute_result"
    }
   ],
   "source": [
    "\n",
    "results_test = model.evaluate(test, label_test)\n",
    "results_test"
   ]
  },
  {
   "cell_type": "markdown",
   "metadata": {},
   "source": [
    "We can see that the training set results are really good, and the test set results seem to be even better. In general, this type of result will be rare, as train set results are usually at least a bit better than test set results.\n",
    "\n",
    "## Summary \n",
    "\n",
    "Congratulations! In this lab, you built a neural network thanks to the tools provided by Keras! In upcoming lessons and labs we'll continue to investigate further ideas regarding how to tune and refine these models for increased accuracy and performance."
   ]
  }
 ],
 "metadata": {
  "kernelspec": {
   "display_name": "Python 3",
   "language": "python",
   "name": "python3"
  },
  "language_info": {
   "codemirror_mode": {
    "name": "ipython",
    "version": 3
   },
   "file_extension": ".py",
   "mimetype": "text/x-python",
   "name": "python",
   "nbconvert_exporter": "python",
   "pygments_lexer": "ipython3",
   "version": "3.8.5"
  },
  "toc": {
   "base_numbering": 1,
   "nav_menu": {},
   "number_sections": true,
   "sideBar": true,
   "skip_h1_title": false,
   "title_cell": "Table of Contents",
   "title_sidebar": "Contents",
   "toc_cell": false,
   "toc_position": {},
   "toc_section_display": true,
   "toc_window_display": false
  }
 },
 "nbformat": 4,
 "nbformat_minor": 2
}
